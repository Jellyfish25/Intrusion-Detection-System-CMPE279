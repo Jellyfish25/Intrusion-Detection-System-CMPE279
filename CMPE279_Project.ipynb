{
 "cells": [
  {
   "cell_type": "markdown",
   "id": "d24308a2",
   "metadata": {},
   "source": [
    "Project (25%):\n",
    "Groups of 1-3 students will be formed to work on a term-long group project related to software security technologies.\n",
    "Which Software Security Technologies? Students are asked to use open source data, e.g. https://data.phishtank.com/Links to an external site., https://stackoverflow.com/Links to an external site. https://www.kaggle.com/datasetsLinks to an external site., and then perform advanced analysis such as AI/ML in Python.\n",
    "Jupyter Notebook must be used.\n",
    "The project will be evaluated based on the problem’s importance, solution novelty, technical quality, degree of complexity/efforts creativity, presentation quality, and documentation quality.\n",
    "The project has two main deliverables: a presentation and a report.\n",
    "Presentations (10% of the course grade)\n",
    "All projects will be demonstrated and presented in class.\n",
    "About 8-10 minutes will be allocated for the demonstration/presentation of each final project. You can present early in the semester or wait for the final weeks (see the course schedule below). Early presenters will be given a break in the score.\n",
    "Each group member is expected to participate in every phase of the project.\n",
    "The final grade of each member will be proportional to his/her participation in the group, as assessed by the instructor and the student’s peers.\n",
    "Each member should be able to answer questions regarding the project, present some part of the project demo, and actively participate in the system implementation and the writing of the technical report."
   ]
  },
  {
   "cell_type": "markdown",
   "id": "ef51fe3d",
   "metadata": {},
   "source": [
    "### Introduction & Objective"
   ]
  },
  {
   "cell_type": "markdown",
   "id": "5016ea97",
   "metadata": {},
   "source": []
  },
  {
   "cell_type": "markdown",
   "id": "8dc2495a",
   "metadata": {},
   "source": [
    "### Importing Libraries & Datasets"
   ]
  },
  {
   "cell_type": "code",
   "execution_count": null,
   "id": "d6637a6c",
   "metadata": {},
   "outputs": [],
   "source": []
  },
  {
   "cell_type": "markdown",
   "id": "386a0953",
   "metadata": {},
   "source": [
    "### Conclusion"
   ]
  },
  {
   "cell_type": "code",
   "execution_count": null,
   "id": "fc7c3d46",
   "metadata": {},
   "outputs": [],
   "source": []
  }
 ],
 "metadata": {
  "kernelspec": {
   "display_name": "Python 3",
   "language": "python",
   "name": "python3"
  },
  "language_info": {
   "codemirror_mode": {
    "name": "ipython",
    "version": 3
   },
   "file_extension": ".py",
   "mimetype": "text/x-python",
   "name": "python",
   "nbconvert_exporter": "python",
   "pygments_lexer": "ipython3",
   "version": "3.8.8"
  }
 },
 "nbformat": 4,
 "nbformat_minor": 5
}
